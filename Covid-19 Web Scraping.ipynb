{
 "cells": [
  {
   "cell_type": "markdown",
   "metadata": {},
   "source": [
    "## Introduction\n",
    " - In this file we Web Scraping the Covid-19 website."
   ]
  },
  {
   "cell_type": "markdown",
   "metadata": {},
   "source": [
    "#### URL --> https://www.worldometers.info/coronavirus"
   ]
  },
  {
   "cell_type": "markdown",
   "metadata": {},
   "source": [
    "### Importing all the necessary libraries."
   ]
  },
  {
   "cell_type": "code",
   "execution_count": 2,
   "metadata": {},
   "outputs": [],
   "source": [
    "import requests\n",
    "import pandas as pd\n",
    "from bs4 import BeautifulSoup"
   ]
  },
  {
   "cell_type": "code",
   "execution_count": 3,
   "metadata": {},
   "outputs": [],
   "source": [
    "url = 'https://www.worldometers.info/coronavirus/'\n",
    "\n",
    "resp = requests.get(url)\n",
    "\n",
    "soup = BeautifulSoup(resp.content,'html')"
   ]
  },
  {
   "cell_type": "code",
   "execution_count": 4,
   "metadata": {},
   "outputs": [],
   "source": [
    "a = soup.find_all('div',attrs = {'class': 'main_table_countries_div'})"
   ]
  },
  {
   "cell_type": "code",
   "execution_count": 5,
   "metadata": {},
   "outputs": [],
   "source": [
    "col = soup.find('thead').text.split('\\n')[3:11]"
   ]
  },
  {
   "cell_type": "code",
   "execution_count": 6,
   "metadata": {},
   "outputs": [
    {
     "data": {
      "text/plain": [
       "['Country,Other',\n",
       " 'TotalCases',\n",
       " 'NewCases',\n",
       " 'TotalDeaths',\n",
       " 'NewDeaths',\n",
       " 'TotalRecovered',\n",
       " 'NewRecovered',\n",
       " 'ActiveCases']"
      ]
     },
     "execution_count": 6,
     "metadata": {},
     "output_type": "execute_result"
    }
   ],
   "source": [
    "col"
   ]
  },
  {
   "cell_type": "code",
   "execution_count": 7,
   "metadata": {},
   "outputs": [],
   "source": [
    "b = soup.find('tbody')"
   ]
  },
  {
   "cell_type": "code",
   "execution_count": 8,
   "metadata": {},
   "outputs": [],
   "source": [
    "c = b.find_all('tr')[8:]"
   ]
  },
  {
   "cell_type": "code",
   "execution_count": 9,
   "metadata": {},
   "outputs": [],
   "source": [
    "row = []"
   ]
  },
  {
   "cell_type": "code",
   "execution_count": 10,
   "metadata": {},
   "outputs": [],
   "source": [
    "for i in range (len(c)):\n",
    "    row.append(c[i].text.split('\\n')[2:10])\n",
    "    "
   ]
  },
  {
   "cell_type": "code",
   "execution_count": 11,
   "metadata": {},
   "outputs": [],
   "source": [
    "for i in range (221):\n",
    "    for j in range(8):\n",
    "        if row[i][j] == '' or row[i][j] == ' ':\n",
    "            row[i][j] = 'None'"
   ]
  },
  {
   "cell_type": "code",
   "execution_count": 12,
   "metadata": {},
   "outputs": [],
   "source": [
    "df = pd.DataFrame(row,columns=col)"
   ]
  },
  {
   "cell_type": "markdown",
   "metadata": {},
   "source": [
    "Create a dataframe of required colums "
   ]
  },
  {
   "cell_type": "code",
   "execution_count": 13,
   "metadata": {},
   "outputs": [
    {
     "data": {
      "text/html": [
       "<div>\n",
       "<style scoped>\n",
       "    .dataframe tbody tr th:only-of-type {\n",
       "        vertical-align: middle;\n",
       "    }\n",
       "\n",
       "    .dataframe tbody tr th {\n",
       "        vertical-align: top;\n",
       "    }\n",
       "\n",
       "    .dataframe thead th {\n",
       "        text-align: right;\n",
       "    }\n",
       "</style>\n",
       "<table border=\"1\" class=\"dataframe\">\n",
       "  <thead>\n",
       "    <tr style=\"text-align: right;\">\n",
       "      <th></th>\n",
       "      <th>Country,Other</th>\n",
       "      <th>TotalCases</th>\n",
       "      <th>NewCases</th>\n",
       "      <th>TotalDeaths</th>\n",
       "      <th>NewDeaths</th>\n",
       "      <th>TotalRecovered</th>\n",
       "      <th>NewRecovered</th>\n",
       "      <th>ActiveCases</th>\n",
       "    </tr>\n",
       "  </thead>\n",
       "  <tbody>\n",
       "    <tr>\n",
       "      <th>0</th>\n",
       "      <td>USA</td>\n",
       "      <td>31,499,322</td>\n",
       "      <td>+2,346</td>\n",
       "      <td>569,328</td>\n",
       "      <td>+46</td>\n",
       "      <td>24,058,567</td>\n",
       "      <td>+5</td>\n",
       "      <td>6,871,427</td>\n",
       "    </tr>\n",
       "    <tr>\n",
       "      <th>1</th>\n",
       "      <td>Brazil</td>\n",
       "      <td>13,023,189</td>\n",
       "      <td>None</td>\n",
       "      <td>333,153</td>\n",
       "      <td>None</td>\n",
       "      <td>11,436,189</td>\n",
       "      <td>None</td>\n",
       "      <td>1,253,847</td>\n",
       "    </tr>\n",
       "    <tr>\n",
       "      <th>2</th>\n",
       "      <td>India</td>\n",
       "      <td>12,695,493</td>\n",
       "      <td>+11,016</td>\n",
       "      <td>165,633</td>\n",
       "      <td>+56</td>\n",
       "      <td>11,735,016</td>\n",
       "      <td>+4,971</td>\n",
       "      <td>794,844</td>\n",
       "    </tr>\n",
       "    <tr>\n",
       "      <th>3</th>\n",
       "      <td>France</td>\n",
       "      <td>4,833,263</td>\n",
       "      <td>None</td>\n",
       "      <td>96,875</td>\n",
       "      <td>None</td>\n",
       "      <td>300,064</td>\n",
       "      <td>None</td>\n",
       "      <td>4,436,324</td>\n",
       "    </tr>\n",
       "    <tr>\n",
       "      <th>4</th>\n",
       "      <td>Russia</td>\n",
       "      <td>4,597,868</td>\n",
       "      <td>+8,328</td>\n",
       "      <td>101,106</td>\n",
       "      <td>+389</td>\n",
       "      <td>4,220,035</td>\n",
       "      <td>+8,902</td>\n",
       "      <td>276,727</td>\n",
       "    </tr>\n",
       "    <tr>\n",
       "      <th>...</th>\n",
       "      <td>...</td>\n",
       "      <td>...</td>\n",
       "      <td>...</td>\n",
       "      <td>...</td>\n",
       "      <td>...</td>\n",
       "      <td>...</td>\n",
       "      <td>...</td>\n",
       "      <td>...</td>\n",
       "    </tr>\n",
       "    <tr>\n",
       "      <th>216</th>\n",
       "      <td>Marshall Islands</td>\n",
       "      <td>4</td>\n",
       "      <td>None</td>\n",
       "      <td>None</td>\n",
       "      <td>None</td>\n",
       "      <td>4</td>\n",
       "      <td>None</td>\n",
       "      <td>0</td>\n",
       "    </tr>\n",
       "    <tr>\n",
       "      <th>217</th>\n",
       "      <td>Samoa</td>\n",
       "      <td>3</td>\n",
       "      <td>None</td>\n",
       "      <td>None</td>\n",
       "      <td>None</td>\n",
       "      <td>2</td>\n",
       "      <td>None</td>\n",
       "      <td>1</td>\n",
       "    </tr>\n",
       "    <tr>\n",
       "      <th>218</th>\n",
       "      <td>Vanuatu</td>\n",
       "      <td>3</td>\n",
       "      <td>None</td>\n",
       "      <td>None</td>\n",
       "      <td>None</td>\n",
       "      <td>1</td>\n",
       "      <td>None</td>\n",
       "      <td>2</td>\n",
       "    </tr>\n",
       "    <tr>\n",
       "      <th>219</th>\n",
       "      <td>Micronesia</td>\n",
       "      <td>1</td>\n",
       "      <td>None</td>\n",
       "      <td>None</td>\n",
       "      <td>None</td>\n",
       "      <td>1</td>\n",
       "      <td>None</td>\n",
       "      <td>0</td>\n",
       "    </tr>\n",
       "    <tr>\n",
       "      <th>220</th>\n",
       "      <td>China</td>\n",
       "      <td>90,329</td>\n",
       "      <td>+24</td>\n",
       "      <td>4,636</td>\n",
       "      <td>None</td>\n",
       "      <td>85,449</td>\n",
       "      <td>+18</td>\n",
       "      <td>244</td>\n",
       "    </tr>\n",
       "  </tbody>\n",
       "</table>\n",
       "<p>221 rows × 8 columns</p>\n",
       "</div>"
      ],
      "text/plain": [
       "        Country,Other  TotalCases NewCases TotalDeaths NewDeaths  \\\n",
       "0                 USA  31,499,322   +2,346    569,328        +46   \n",
       "1              Brazil  13,023,189     None    333,153       None   \n",
       "2               India  12,695,493  +11,016    165,633        +56   \n",
       "3              France   4,833,263     None     96,875       None   \n",
       "4              Russia   4,597,868   +8,328    101,106       +389   \n",
       "..                ...         ...      ...         ...       ...   \n",
       "216  Marshall Islands           4     None        None      None   \n",
       "217             Samoa           3     None        None      None   \n",
       "218           Vanuatu           3     None        None      None   \n",
       "219        Micronesia           1     None        None      None   \n",
       "220             China      90,329      +24      4,636       None   \n",
       "\n",
       "    TotalRecovered NewRecovered ActiveCases  \n",
       "0       24,058,567           +5   6,871,427  \n",
       "1       11,436,189         None   1,253,847  \n",
       "2       11,735,016       +4,971     794,844  \n",
       "3          300,064         None   4,436,324  \n",
       "4        4,220,035       +8,902     276,727  \n",
       "..             ...          ...         ...  \n",
       "216              4         None           0  \n",
       "217              2         None           1  \n",
       "218              1         None           2  \n",
       "219              1         None           0  \n",
       "220         85,449          +18         244  \n",
       "\n",
       "[221 rows x 8 columns]"
      ]
     },
     "execution_count": 13,
     "metadata": {},
     "output_type": "execute_result"
    }
   ],
   "source": [
    "df"
   ]
  },
  {
   "cell_type": "code",
   "execution_count": null,
   "metadata": {},
   "outputs": [],
   "source": []
  }
 ],
 "metadata": {
  "kernelspec": {
   "display_name": "Python 3",
   "language": "python",
   "name": "python3"
  },
  "language_info": {
   "codemirror_mode": {
    "name": "ipython",
    "version": 3
   },
   "file_extension": ".py",
   "mimetype": "text/x-python",
   "name": "python",
   "nbconvert_exporter": "python",
   "pygments_lexer": "ipython3",
   "version": "3.8.5"
  }
 },
 "nbformat": 4,
 "nbformat_minor": 4
}
